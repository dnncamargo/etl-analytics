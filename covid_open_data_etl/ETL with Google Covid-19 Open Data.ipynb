{
 "cells": [
  {
   "cell_type": "code",
   "execution_count": 1,
   "metadata": {},
   "outputs": [
    {
     "name": "stdout",
     "output_type": "stream",
     "text": [
      "Defaulting to user installation because normal site-packages is not writeable\n",
      "Requirement already satisfied: pandas in d:\\dev\\anaconda\\lib\\site-packages (2.0.3)\n",
      "Requirement already satisfied: python-dateutil>=2.8.2 in d:\\dev\\anaconda\\lib\\site-packages (from pandas) (2.8.2)\n",
      "Requirement already satisfied: pytz>=2020.1 in d:\\dev\\anaconda\\lib\\site-packages (from pandas) (2023.3.post1)\n",
      "Requirement already satisfied: tzdata>=2022.1 in d:\\dev\\anaconda\\lib\\site-packages (from pandas) (2023.3)\n",
      "Requirement already satisfied: numpy>=1.21.0 in d:\\dev\\anaconda\\lib\\site-packages (from pandas) (1.24.3)\n",
      "Requirement already satisfied: six>=1.5 in d:\\dev\\anaconda\\lib\\site-packages (from python-dateutil>=2.8.2->pandas) (1.16.0)\n",
      "Note: you may need to restart the kernel to use updated packages.\n"
     ]
    }
   ],
   "source": [
    "%pip install pandas"
   ]
  },
  {
   "cell_type": "code",
   "execution_count": 2,
   "metadata": {},
   "outputs": [],
   "source": [
    "import os\n",
    "import requests\n",
    "import pandas as pd\n",
    "import sqlite3"
   ]
  },
  {
   "cell_type": "code",
   "execution_count": null,
   "metadata": {},
   "outputs": [
    {
     "name": "stdout",
     "output_type": "stream",
     "text": [
      "Diretório 'Data' já existe.\n",
      "Arquivo Data\\aggregated.csv.gz já existe. Pulando download\n",
      "Download concluído com sucesso! Tamanho do arquivo: 1420044994 bytes.\n"
     ]
    }
   ],
   "source": [
    "# download dos arquivos\n",
    "# url_base para os datasets\n",
    "base_url=\"https://storage.googleapis.com/covid19-open-data/v3/aggregated.csv.gz\"\n",
    "\n",
    "# diretório destino\n",
    "base_dir = \"Data\"\n",
    "pathfile = os.path.join(base_dir, \"aggregated.csv.gz\")\n",
    "\n",
    "try:\n",
    "    # Verifica se o diretório existe. Se não, cria o diretório.\n",
    "    if not os.path.exists(base_dir):\n",
    "        print(f\"Diretório '{base_dir}' não existe. Criando...\")\n",
    "        os.makedirs(base_dir)\n",
    "    else:\n",
    "        print(f\"Diretório '{base_dir}' já existe.\")\n",
    "\n",
    "    # Faz o download do arquivo\n",
    "    if(not os.path.exists(pathfile)):\n",
    "        print(f\"Baixando arquivo de {base_url}...\")\n",
    "        response = requests.get(base_url, stream=True)\n",
    "        response.raise_for_status()\n",
    "        # Salva o arquivo no diretório especificado\n",
    "        with open(pathfile, 'wb') as file:\n",
    "            for chunk in response.iter_content(chunk_size=8192):\n",
    "                file.write(chunk)\n",
    "        print(f\"Arquivo salvo em: {pathfile}\")\n",
    "    else:\n",
    "        print(f\"Arquivo {pathfile} já existe. Pulando download\")\n",
    "\n",
    "    # Verifica se o arquivo foi baixado corretamente\n",
    "    if os.path.exists(pathfile):\n",
    "        tamanho = os.path.getsize(pathfile)\n",
    "        print(f\"Download concluído com sucesso! Tamanho do arquivo: {tamanho} bytes.\")\n",
    "    else:\n",
    "        print(\"Erro: O arquivo não foi salvo corretamente.\")\n",
    "\n",
    "except requests.exceptions.HTTPError as errh:\n",
    "    print(f\"Erro HTTP: {errh}\")\n",
    "except requests.exceptions.ConnectionError as errc:\n",
    "    print(f\"Erro de Conexão: {errc}\")\n",
    "except requests.exceptions.Timeout as errt:\n",
    "    print(f\"Timeout: {errt}\")\n",
    "except requests.exceptions.RequestException as err:\n",
    "    print(f\"Erro ao fazer o download: {err}\")\n",
    "except Exception as e:\n",
    "    print(f\"Erro inesperado: {e}\")"
   ]
  },
  {
   "cell_type": "code",
   "execution_count": null,
   "metadata": {},
   "outputs": [],
   "source": []
  }
 ],
 "metadata": {
  "kernelspec": {
   "display_name": "base",
   "language": "python",
   "name": "python3"
  },
  "language_info": {
   "codemirror_mode": {
    "name": "ipython",
    "version": 3
   },
   "file_extension": ".py",
   "mimetype": "text/x-python",
   "name": "python",
   "nbconvert_exporter": "python",
   "pygments_lexer": "ipython3",
   "version": "3.11.5"
  }
 },
 "nbformat": 4,
 "nbformat_minor": 2
}
