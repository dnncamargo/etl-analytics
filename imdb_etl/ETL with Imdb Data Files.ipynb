{
 "cells": [
  {
   "cell_type": "code",
   "execution_count": 1,
   "id": "929b5e96",
   "metadata": {},
   "outputs": [
    {
     "name": "stdout",
     "output_type": "stream",
     "text": [
      "Defaulting to user installation because normal site-packages is not writeableNote: you may need to restart the kernel to use updated packages.\n",
      "\n",
      "Requirement already satisfied: pandas in d:\\dev\\anaconda\\lib\\site-packages (2.0.3)\n",
      "Requirement already satisfied: python-dateutil>=2.8.2 in d:\\dev\\anaconda\\lib\\site-packages (from pandas) (2.8.2)\n",
      "Requirement already satisfied: pytz>=2020.1 in d:\\dev\\anaconda\\lib\\site-packages (from pandas) (2023.3.post1)\n",
      "Requirement already satisfied: tzdata>=2022.1 in d:\\dev\\anaconda\\lib\\site-packages (from pandas) (2023.3)\n",
      "Requirement already satisfied: numpy>=1.21.0 in d:\\dev\\anaconda\\lib\\site-packages (from pandas) (1.24.3)\n",
      "Requirement already satisfied: six>=1.5 in d:\\dev\\anaconda\\lib\\site-packages (from python-dateutil>=2.8.2->pandas) (1.16.0)\n"
     ]
    }
   ],
   "source": [
    "%pip install pandas"
   ]
  },
  {
   "cell_type": "code",
   "execution_count": 1,
   "id": "428c75a2",
   "metadata": {},
   "outputs": [],
   "source": [
    "import os\n",
    "import requests\n",
    "import pandas as pd\n",
    "import sqlite3"
   ]
  },
  {
   "cell_type": "code",
   "execution_count": 4,
   "id": "586836db",
   "metadata": {},
   "outputs": [
    {
     "name": "stdout",
     "output_type": "stream",
     "text": [
      "name.basics.tsv.gz já existe.\n",
      "title.akas.tsv.gz já existe.\n",
      "title.basics.tsv.gz já existe.\n",
      "title.crew.tsv.gz já existe.\n",
      "title.episode.tsv.gz já existe.\n",
      "title.principals.tsv.gz já existe.\n",
      "title.ratings.tsv.gz já existe.\n",
      "Download concluído.\n"
     ]
    }
   ],
   "source": [
    "# download dos arquivos\n",
    "# url_base para os datasets do IMDB\n",
    "base_url=\"https://datasets.imdbws.com/\"\n",
    "\n",
    "# namepath dos arquivos que desejamos baixar\n",
    "files = [\n",
    "    \"name.basics.tsv.gz\",\n",
    "    \"title.akas.tsv.gz\",\n",
    "    \"title.basics.tsv.gz\",\n",
    "    \"title.crew.tsv.gz\",\n",
    "    \"title.episode.tsv.gz\",\n",
    "    \"title.principals.tsv.gz\",\n",
    "    \"title.ratings.tsv.gz\"\n",
    "]\n",
    "\n",
    "# diretório destino\n",
    "base_dir = \"Data\"\n",
    "\n",
    "# Certifique-se de que o diretório destino existe\n",
    "os.makedirs(base_dir, exist_ok=True)\n",
    "\n",
    "#Loop para baixar os arquivos\n",
    "for filename in files:\n",
    "    url = base_url + filename\n",
    "    namepath = os.path.join(base_dir, filename)\n",
    "    \n",
    "    # verifica se o arquivo já existe para evitar o download repetido\n",
    "    if not os.path.exists(namepath):\n",
    "        print(f\"Baixando {filename}...\")\n",
    "        response = requests.get(url)\n",
    "        \n",
    "        # verifica se a solicitação foi bem sucedida\n",
    "        if response.status_code == 200:\n",
    "            with open(namepath, 'wb') as f:\n",
    "                f.write(response.content)\n",
    "            print(f\"{filename} baixado com sucesso\")\n",
    "        else:\n",
    "            print(f\"Falha ao baixar {filename}. Código de status: {response.status_code}\")\n",
    "    else:\n",
    "        print(f\"{filename} já existe.\")\n",
    "print(f\"Download concluído.\")"
   ]
  },
  {
   "cell_type": "code",
   "execution_count": 6,
   "id": "552eab1c",
   "metadata": {
    "scrolled": false
   },
   "outputs": [
    {
     "name": "stdout",
     "output_type": "stream",
     "text": [
      "Lendo e tratando arquivo name.basics.tsv.gz...\n",
      "Tratamento concluído para name.basics.tsv.gz. Arquivo tratado e salvo em Data\\processed\\name.basics.tsv\n",
      "Lendo e tratando arquivo title.akas.tsv.gz...\n",
      "Tratamento concluído para title.akas.tsv.gz. Arquivo tratado e salvo em Data\\processed\\title.akas.tsv\n",
      "Lendo e tratando arquivo title.basics.tsv.gz...\n",
      "Tratamento concluído para title.basics.tsv.gz. Arquivo tratado e salvo em Data\\processed\\title.basics.tsv\n",
      "Lendo e tratando arquivo title.crew.tsv.gz...\n",
      "Tratamento concluído para title.crew.tsv.gz. Arquivo tratado e salvo em Data\\processed\\title.crew.tsv\n",
      "Lendo e tratando arquivo title.episode.tsv.gz...\n",
      "Tratamento concluído para title.episode.tsv.gz. Arquivo tratado e salvo em Data\\processed\\title.episode.tsv\n",
      "Lendo e tratando arquivo title.principals.tsv.gz...\n",
      "Tratamento concluído para title.principals.tsv.gz. Arquivo tratado e salvo em Data\\processed\\title.principals.tsv\n",
      "Lendo e tratando arquivo title.ratings.tsv.gz...\n",
      "Tratamento concluído para title.ratings.tsv.gz. Arquivo tratado e salvo em Data\\processed\\title.ratings.tsv\n",
      "Todos os arquivos foram tratados e salvos no diretório Processed\n"
     ]
    }
   ],
   "source": [
    "# Tratamento dos dados\n",
    "processed_dir = os.path.join(base_dir, \"processed\")\n",
    "\n",
    "# Certifique-se de que o diretório processed existe\n",
    "os.makedirs(processed_dir, exist_ok=True)\n",
    "\n",
    "# Lista todos os arquivos do diretório Data\n",
    "files = os.listdir(base_dir)\n",
    "\n",
    "# Loop para abrir, tratar e salvar cada arquivo\n",
    "for filename in files:\n",
    "    namepath = os.path.join(base_dir, filename)\n",
    "    \n",
    "    if os.path.isfile(namepath) and filename.endswith(\"gz\"):\n",
    "        print(f\"Lendo e tratando arquivo {filename}...\")\n",
    "        \n",
    "        # Lê o arquivo TSV usando pandas\n",
    "        df = pd.read_csv(namepath, sep='\\t', compression='gzip', low_memory=False)\n",
    "        \n",
    "        # Substitui os caracteres \"ln\" um valor nulo\n",
    "        df.replace({\"\\\\N\": None}, inplace=True)\n",
    "        \n",
    "        # Salva o DataFrame no diretório \"processed\" sem compressão\n",
    "        output_file_path = os.path.join(processed_dir, filename[:-3])  # Caminho completo para o arquivo processado\n",
    "        df.to_csv(output_file_path, sep='\\t', index=False)\n",
    "        \n",
    "        print(f\"Tratamento concluído para {filename}. Arquivo tratado e salvo em {output_file_path}\")\n",
    "print(f\"Todos os arquivos foram tratados e salvos no diretório Processed\")"
   ]
  },
  {
   "cell_type": "code",
   "execution_count": 32,
   "id": "ff1fcf9a",
   "metadata": {},
   "outputs": [
    {
     "data": {
      "text/html": [
       "<div>\n",
       "<style scoped>\n",
       "    .dataframe tbody tr th:only-of-type {\n",
       "        vertical-align: middle;\n",
       "    }\n",
       "\n",
       "    .dataframe tbody tr th {\n",
       "        vertical-align: top;\n",
       "    }\n",
       "\n",
       "    .dataframe thead th {\n",
       "        text-align: right;\n",
       "    }\n",
       "</style>\n",
       "<table border=\"1\" class=\"dataframe\">\n",
       "  <thead>\n",
       "    <tr style=\"text-align: right;\">\n",
       "      <th></th>\n",
       "      <th>nconst</th>\n",
       "      <th>primaryName</th>\n",
       "      <th>birthYear</th>\n",
       "      <th>deathYear</th>\n",
       "      <th>primaryProfession</th>\n",
       "      <th>knownForTitles</th>\n",
       "    </tr>\n",
       "  </thead>\n",
       "  <tbody>\n",
       "    <tr>\n",
       "      <th>0</th>\n",
       "      <td>nm0000001</td>\n",
       "      <td>Fred Astaire</td>\n",
       "      <td>1899.0</td>\n",
       "      <td>1987.0</td>\n",
       "      <td>actor,miscellaneous,producer</td>\n",
       "      <td>tt0072308,tt0050419,tt0053137,tt0043044</td>\n",
       "    </tr>\n",
       "    <tr>\n",
       "      <th>1</th>\n",
       "      <td>nm0000002</td>\n",
       "      <td>Lauren Bacall</td>\n",
       "      <td>1924.0</td>\n",
       "      <td>2014.0</td>\n",
       "      <td>actress,soundtrack,archive_footage</td>\n",
       "      <td>tt0037382,tt0075213,tt0117057,tt0038355</td>\n",
       "    </tr>\n",
       "    <tr>\n",
       "      <th>2</th>\n",
       "      <td>nm0000003</td>\n",
       "      <td>Brigitte Bardot</td>\n",
       "      <td>1934.0</td>\n",
       "      <td>NaN</td>\n",
       "      <td>actress,music_department,producer</td>\n",
       "      <td>tt0057345,tt0049189,tt0056404,tt0054452</td>\n",
       "    </tr>\n",
       "    <tr>\n",
       "      <th>3</th>\n",
       "      <td>nm0000004</td>\n",
       "      <td>John Belushi</td>\n",
       "      <td>1949.0</td>\n",
       "      <td>1982.0</td>\n",
       "      <td>actor,writer,music_department</td>\n",
       "      <td>tt0072562,tt0077975,tt0080455,tt0078723</td>\n",
       "    </tr>\n",
       "    <tr>\n",
       "      <th>4</th>\n",
       "      <td>nm0000005</td>\n",
       "      <td>Ingmar Bergman</td>\n",
       "      <td>1918.0</td>\n",
       "      <td>2007.0</td>\n",
       "      <td>writer,director,actor</td>\n",
       "      <td>tt0050986,tt0069467,tt0050976,tt0083922</td>\n",
       "    </tr>\n",
       "  </tbody>\n",
       "</table>\n",
       "</div>"
      ],
      "text/plain": [
       "      nconst      primaryName  birthYear  deathYear  \\\n",
       "0  nm0000001     Fred Astaire     1899.0     1987.0   \n",
       "1  nm0000002    Lauren Bacall     1924.0     2014.0   \n",
       "2  nm0000003  Brigitte Bardot     1934.0        NaN   \n",
       "3  nm0000004     John Belushi     1949.0     1982.0   \n",
       "4  nm0000005   Ingmar Bergman     1918.0     2007.0   \n",
       "\n",
       "                    primaryProfession                           knownForTitles  \n",
       "0        actor,miscellaneous,producer  tt0072308,tt0050419,tt0053137,tt0043044  \n",
       "1  actress,soundtrack,archive_footage  tt0037382,tt0075213,tt0117057,tt0038355  \n",
       "2   actress,music_department,producer  tt0057345,tt0049189,tt0056404,tt0054452  \n",
       "3       actor,writer,music_department  tt0072562,tt0077975,tt0080455,tt0078723  \n",
       "4               writer,director,actor  tt0050986,tt0069467,tt0050976,tt0083922  "
      ]
     },
     "execution_count": 32,
     "metadata": {},
     "output_type": "execute_result"
    }
   ],
   "source": [
    "# Validando dataframe\n",
    "df = pd.read_csv('./Data/processed/name.basics.tsv', sep='\\t')\n",
    "df.head()"
   ]
  },
  {
   "cell_type": "code",
   "execution_count": 33,
   "id": "7026ff5f",
   "metadata": {},
   "outputs": [
    {
     "data": {
      "text/plain": [
       "nconst                      0\n",
       "primaryName                59\n",
       "birthYear            13389443\n",
       "deathYear            13785332\n",
       "primaryProfession     2723305\n",
       "knownForTitles        1587326\n",
       "dtype: int64"
      ]
     },
     "execution_count": 33,
     "metadata": {},
     "output_type": "execute_result"
    }
   ],
   "source": [
    "# Verifica a quantidade de dados nulos por coluna\n",
    "df.isnull().sum()"
   ]
  },
  {
   "cell_type": "code",
   "execution_count": 34,
   "id": "1624fa40",
   "metadata": {},
   "outputs": [
    {
     "name": "stdout",
     "output_type": "stream",
     "text": [
      "Aquivo name.basics.tsv salvo como tabela name_basics no banco de dados\n",
      "Aquivo title.akas.tsv salvo como tabela title_akas no banco de dados\n",
      "Aquivo title.basics.tsv salvo como tabela title_basics no banco de dados\n",
      "Aquivo title.crew.tsv salvo como tabela title_crew no banco de dados\n",
      "Aquivo title.episode.tsv salvo como tabela title_episode no banco de dados\n",
      "Aquivo title.principals.tsv salvo como tabela title_principals no banco de dados\n",
      "Aquivo title.ratings.tsv salvo como tabela title_ratings no banco de dados\n",
      "Todos os arquivos foram salvos no banco de dados.\n"
     ]
    }
   ],
   "source": [
    "# Salvando em banco de dados com o SQLite\n",
    "\n",
    "# Diretórios\n",
    "processed_dir = os.path.join(\"Data\", \"processed\")\n",
    "db = \"imdb_data.db\"\n",
    "\n",
    "# Conecta ao banco de dados SQLite\n",
    "conn = sqlite3.connect(db)\n",
    "\n",
    "# Lista todos os arquivos no diretório processed\n",
    "files = os.listdir(processed_dir)\n",
    "\n",
    "# Loop para ler cada arquivo e salvar em uma tabela SQLite\n",
    "for filename in files:\n",
    "    output_file_path = os.path.join(processed_dir, filename)\n",
    "\n",
    "    if os.path.isfile(output_file_path) and filename.endswith(\".tsv\"):\n",
    "        # Lê o arquivo tsv usando o pandas\n",
    "        df = pd.read_csv(output_file_path, sep='\\t', low_memory=False)\n",
    "\n",
    "        # O nome da tabela é o nome do arquivo sem a extensão do nome\n",
    "        table_name = os.path.splitext(filename)[0]\n",
    "\n",
    "        # Substitui os caracteres especiais no nome da tabela\n",
    "        table_name = table_name.replace(\".\", \"_\").replace(\"-\", \"_\")\n",
    "\n",
    "        # Salva o Dataframe na tabela SQLite\n",
    "        df.to_sql(table_name, conn, index=False, if_exists='replace')\n",
    "\n",
    "        print(f\"Aquivo {filename} salvo como tabela {table_name} no banco de dados\")\n",
    "\n",
    "# Fecha a conexão com o banco de dados\n",
    "conn.close()\n",
    "print(\"Todos os arquivos foram salvos no banco de dados.\")"
   ]
  },
  {
   "cell_type": "code",
   "execution_count": 85,
   "id": "053da0ea",
   "metadata": {},
   "outputs": [
    {
     "name": "stdout",
     "output_type": "stream",
     "text": [
      "Tabelas no banco de dados:\n",
      "name_basics\n",
      "title_akas\n",
      "title_basics\n",
      "title_crew\n",
      "title_episode\n",
      "title_principals\n",
      "title_ratings\n",
      "table_analytics\n",
      "table_participants\n"
     ]
    }
   ],
   "source": [
    "# Teste de conexão: Exibir schemas\n",
    "\n",
    "# Nome do banco de dados\n",
    "db = \"imdb_data.db\"\n",
    "\n",
    "# Conecta-se ao banco de dados SQLite\n",
    "conn = sqlite3.connect(db)\n",
    "\n",
    "# Cria um cursor para validar as queries\n",
    "cursor = conn.cursor()\n",
    "\n",
    "# Executa a consulta SQL para obter o nome das tabelas\n",
    "cursor.execute(\"SELECT name FROM sqlite_master WHERE type='table';\")\n",
    "\n",
    "# Recupera os resultados da consulta\n",
    "tables = cursor.fetchall()\n",
    "\n",
    "# Exibe o nome das tabelas\n",
    "print(\"Tabelas no banco de dados:\")\n",
    "for t in tables:\n",
    "    print(t[0])\n",
    "\n",
    "# Fecha o cursor e a conexão com o banco de dados\n",
    "cursor.close()\n",
    "conn.close()"
   ]
  },
  {
   "cell_type": "code",
   "execution_count": 36,
   "id": "4d80ff8c",
   "metadata": {},
   "outputs": [],
   "source": [
    "# Teste de conexão: Exibir conteúdo de tabela\n",
    "\n",
    "# Conecta-se com o banco de dados\n",
    "conn = sqlite3.connect(db)\n",
    "\n",
    "# Executa a consulta SQL para obter as 10 primeiras linhas da tabela \n",
    "query = \"\"\"\n",
    "SELECT * FROM title_basics LIMIT 10;\n",
    "\"\"\"\n",
    "df = pd.read_sql_query(query, conn)\n",
    "\n",
    "# Fecha a conexão com o banco de dados\n",
    "conn.close()"
   ]
  },
  {
   "cell_type": "code",
   "execution_count": 79,
   "id": "5d7dd566",
   "metadata": {},
   "outputs": [
    {
     "name": "stdout",
     "output_type": "stream",
     "text": [
      "      tconst  ordering         category                    genres\n",
      "0  tt0000001         1             self         Documentary,Short\n",
      "1  tt0000001         2         director         Documentary,Short\n",
      "2  tt0000001         3         producer         Documentary,Short\n",
      "3  tt0000001         4  cinematographer         Documentary,Short\n",
      "4  tt0000002         1         director           Animation,Short\n",
      "5  tt0000002         2         composer           Animation,Short\n",
      "6  tt0000003         1         director  Animation,Comedy,Romance\n",
      "7  tt0000003         2         producer  Animation,Comedy,Romance\n",
      "8  tt0000003         3         producer  Animation,Comedy,Romance\n",
      "9  tt0000003         4         composer  Animation,Comedy,Romance\n"
     ]
    }
   ],
   "source": [
    "print(df)"
   ]
  },
  {
   "cell_type": "code",
   "execution_count": 78,
   "id": "d2d98c9e",
   "metadata": {},
   "outputs": [],
   "source": [
    "# Conecta-se com o banco de dados\n",
    "conn = sqlite3.connect(db)\n",
    "\n",
    "# Executa a consulta SQL para obter as 10 primeiras linhas da tabela \n",
    "\"\"\"\n",
    "    SELECT\n",
    "        startYear,\n",
    "        count(startYear)\n",
    "    FROM title_basics \n",
    "    GROUP BY(startYear)\n",
    "\"\"\"\n",
    "\"\"\"\n",
    "    SELECT\n",
    "        tb.tconst,\n",
    "        tb.titleType,\n",
    "        tb.originalTitle,\n",
    "        tb.startYear,\n",
    "        tb.genres,\n",
    "        tr.averageRating,\n",
    "        tr.numVotes \n",
    "    FROM title_basics tb\n",
    "    LEFT JOIN title_ratings tr ON tb.tconst = tr.tconst\n",
    "    LIMIT 10;\n",
    "\"\"\"\n",
    "\n",
    "\"\"\"\n",
    "    WITH\n",
    "        participants AS (\n",
    "            SELECT\n",
    "                    tp.tconst,\n",
    "                    COUNT (DISTINCT tp.nconst) as QtParticipants\n",
    "                FROM title_principals tp\n",
    "                GROUP BY 1\n",
    "        )\n",
    "    SELECT\n",
    "        tb.tconst,\n",
    "        tb.titleType,\n",
    "        tb.originalTitle,\n",
    "        tb.startYear,\n",
    "        tb.endYear,\n",
    "        tb.genres,\n",
    "        tr.averageRating,\n",
    "        tr.numVotes,\n",
    "        tp.QtParticipants\n",
    "    FROM title_basics tb\n",
    "    LEFT JOIN title_ratings tr     ON tb.tconst = tr.tconst\n",
    "    LEFT JOIN participants tp      ON tp.tconst = tb.tconst\n",
    "\n",
    "    LIMIT 10;\n",
    "\"\"\"\n",
    "\n",
    "query = \"\"\"\n",
    "SELECT \n",
    "    tb.tconst,\n",
    "    tp.ordering,  \n",
    "    tp.category,                         \n",
    "    tb.genres\n",
    "FROM title_principals tp\n",
    "LEFT JOIN title_basics tb   ON tp.tconst = tb.tconst\n",
    "LIMIT 10;\n",
    "\"\"\"\n",
    "\n",
    "df = pd.read_sql_query(query, conn)\n",
    "\n",
    "# Fecha a conexão com o banco de dados\n",
    "conn.close()"
   ]
  },
  {
   "cell_type": "code",
   "execution_count": 81,
   "id": "469159d1",
   "metadata": {},
   "outputs": [],
   "source": [
    "query1 = \"\"\"\n",
    "CREATE TABLE IF NOT EXISTS table_analytics AS\n",
    "    WITH\n",
    "        participants AS (\n",
    "            SELECT\n",
    "                    tp.tconst,\n",
    "                    COUNT (DISTINCT tp.nconst) as QtParticipants\n",
    "                FROM title_principals tp\n",
    "                GROUP BY 1\n",
    "        )\n",
    "    SELECT\n",
    "        tb.tconst,\n",
    "        tb.titleType,\n",
    "        tb.originalTitle,\n",
    "        tb.startYear,\n",
    "        tb.endYear,\n",
    "        tb.genres,\n",
    "        tr.averageRating,\n",
    "        tr.numVotes,\n",
    "        tp.QtParticipants\n",
    "    FROM title_basics tb\n",
    "    LEFT JOIN title_ratings tr     ON tb.tconst = tr.tconst\n",
    "    LEFT JOIN participants tp      ON tp.tconst = tb.tconst\n",
    "\"\"\"\n",
    "\n",
    "query2 = \"\"\"\n",
    "CREATE TABLE IF NOT EXISTS table_participants AS\n",
    "    SELECT \n",
    "        tb.tconst,\n",
    "        tp.ordering,  \n",
    "        tp.category,                         \n",
    "        tb.genres\n",
    "    FROM title_principals tp\n",
    "    LEFT JOIN title_basics tb   ON tp.tconst = tb.tconst\n",
    "\"\"\""
   ]
  },
  {
   "cell_type": "code",
   "execution_count": null,
   "id": "b045b958",
   "metadata": {},
   "outputs": [
    {
     "name": "stdout",
     "output_type": "stream",
     "text": [
      "Tabelas criadas com sucesso!\n"
     ]
    }
   ],
   "source": [
    "# Lista de consultas\n",
    "queries = [query1, query2]\n",
    "for q in queries:\n",
    "    # Diretórios\n",
    "    bd = \"imdb_data.db\"\n",
    "    \n",
    "    # Conecta-se com o banco de dados\n",
    "    conn = sqlite3.connect(db)\n",
    "\n",
    "    # Execução\n",
    "    conn.execute(q)\n",
    "# Fecha a conexão\n",
    "conn.close()\n",
    "print(\"Tabelas criadas com sucesso!\")\n",
    "    "
   ]
  },
  {
   "cell_type": "code",
   "execution_count": 5,
   "id": "18718f1d",
   "metadata": {},
   "outputs": [
    {
     "name": "stdout",
     "output_type": "stream",
     "text": [
      "      tconst  ordering         category                    genres\n",
      "0  tt0000001         1             self         Documentary,Short\n",
      "1  tt0000001         2         director         Documentary,Short\n",
      "2  tt0000001         3         producer         Documentary,Short\n",
      "3  tt0000001         4  cinematographer         Documentary,Short\n",
      "4  tt0000002         1         director           Animation,Short\n",
      "5  tt0000002         2         composer           Animation,Short\n",
      "6  tt0000003         1         director  Animation,Comedy,Romance\n",
      "7  tt0000003         2         producer  Animation,Comedy,Romance\n",
      "8  tt0000003         3         producer  Animation,Comedy,Romance\n",
      "9  tt0000003         4         composer  Animation,Comedy,Romance\n"
     ]
    }
   ],
   "source": [
    "# Conecta-se com o banco de dados\n",
    "db = \"imdb_data.db\"\n",
    "conn = sqlite3.connect(db)\n",
    "\n",
    "# Consulta\n",
    "query = \"\"\"\n",
    "SELECT \n",
    "    *\n",
    "FROM table_participants\n",
    "LIMIT 10;\n",
    "\"\"\"\n",
    "\n",
    "df = pd.read_sql_query(query, conn)\n",
    "\n",
    "# Fecha a conexão com o banco de dados\n",
    "conn.close()\n",
    "print(df)\n"
   ]
  }
 ],
 "metadata": {
  "kernelspec": {
   "display_name": "base",
   "language": "python",
   "name": "python3"
  },
  "language_info": {
   "codemirror_mode": {
    "name": "ipython",
    "version": 3
   },
   "file_extension": ".py",
   "mimetype": "text/x-python",
   "name": "python",
   "nbconvert_exporter": "python",
   "pygments_lexer": "ipython3",
   "version": "3.11.5"
  }
 },
 "nbformat": 4,
 "nbformat_minor": 5
}
