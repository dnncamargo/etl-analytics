{
 "cells": [
  {
   "cell_type": "code",
   "execution_count": null,
   "metadata": {},
   "outputs": [],
   "source": [
    "# download dos arquivos\n",
    "# url_base para os datasets\n",
    "base_url='https://www.camara.leg.br/cotas/Ano-2019.csv.zip' \n",
    "# pasta de destino\n",
    "output_dir='data'\n",
    "# nome do arquivo\n",
    "output_file='Ano-2019.csv.zip'\n",
    "# caminho completo do arquivo\n",
    "output_path=os.path.join(output_dir, output_file)"
   ]
  }
 ],
 "metadata": {
  "language_info": {
   "name": "python"
  }
 },
 "nbformat": 4,
 "nbformat_minor": 2
}
